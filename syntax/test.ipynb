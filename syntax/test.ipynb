{
 "cells": [
  {
   "cell_type": "code",
   "execution_count": 1,
   "metadata": {},
   "outputs": [
    {
     "name": "stdout",
     "output_type": "stream",
     "text": [
      "(S\n",
      "  (NP (DT the) (NN lawyer))\n",
      "  (VP\n",
      "    (VBD questioned)\n",
      "    (NP (DT the) (NN witness))\n",
      "    (PP (IN about) (NP (DT the) (NN resolver)))))\n"
     ]
    }
   ],
   "source": [
    "import nltk\n",
    "\n",
    "words = nltk.word_tokenize('the lawyer questioned the witness about the resolver')\n",
    "tags = set(nltk.pos_tag(words))\n",
    "DT = '|'.join('\"' + word[0] + '\"' for word in tags if word[1] == 'DT')\n",
    "NN = '|'.join('\"' + word[0] + '\"' for word in tags if word[1] == 'NN')\n",
    "VBD = '|'.join('\"' + word[0] + '\"' for word in tags if word[1] == 'VBD')\n",
    "IN = '|'.join('\"' + word[0] + '\"' for word in tags if word[1] == 'IN')\n",
    "\n",
    "grammar = nltk.CFG.fromstring('''\n",
    "    S -> NP VP\n",
    "    VP -> VBD NP | VBD NP PP\n",
    "    PP -> IN NP\n",
    "    NP -> DT NN\n",
    "    DT -> %s\n",
    "    NN -> %s\n",
    "    VBD -> %s\n",
    "    IN -> %s\n",
    "''' % (DT, NN, VBD, IN))\n",
    "rd_parser = nltk.RecursiveDescentParser(grammar)\n",
    "for tree in rd_parser.parse(words):\n",
    "   print(tree)"
   ]
  }
 ],
 "metadata": {
  "kernelspec": {
   "display_name": "Python 3",
   "language": "python",
   "name": "python3"
  },
  "language_info": {
   "codemirror_mode": {
    "name": "ipython",
    "version": 3
   },
   "file_extension": ".py",
   "mimetype": "text/x-python",
   "name": "python",
   "nbconvert_exporter": "python",
   "pygments_lexer": "ipython3",
   "version": "3.6.7"
  }
 },
 "nbformat": 4,
 "nbformat_minor": 2
}
